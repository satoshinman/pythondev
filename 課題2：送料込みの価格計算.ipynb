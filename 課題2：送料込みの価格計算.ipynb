{
 "cells": [
  {
   "cell_type": "code",
   "execution_count": 22,
   "id": "4ac36859",
   "metadata": {},
   "outputs": [
    {
     "name": "stdout",
     "output_type": "stream",
     "text": [
      "送料は無料です\n",
      "送料込みの価格は 2200 円です。\n"
     ]
    }
   ],
   "source": [
    "zeinuki_kakaku = input(\"税抜価格を入力してください: \")\n",
    "zeikomi_kakaku = round(int(zeinuki_kakaku) * 1.1, 0)\n",
    "if zeikomi_kakaku >= 2000:\n",
    "    print(\"送料は無料です\")\n",
    "else:\n",
    "    print(\"送料として350円かかります\")\n",
    "    zeikomi_kakaku += 350\n",
    "\n",
    "print(f\"送料込みの価格は {zeikomi_kakaku:.0f} 円です。\")"
   ]
  }
 ],
 "metadata": {
  "kernelspec": {
   "display_name": ".venv",
   "language": "python",
   "name": "python3"
  },
  "language_info": {
   "codemirror_mode": {
    "name": "ipython",
    "version": 3
   },
   "file_extension": ".py",
   "mimetype": "text/x-python",
   "name": "python",
   "nbconvert_exporter": "python",
   "pygments_lexer": "ipython3",
   "version": "3.12.10"
  }
 },
 "nbformat": 4,
 "nbformat_minor": 5
}
