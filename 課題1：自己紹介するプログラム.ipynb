{
 "cells": [
  {
   "cell_type": "code",
   "execution_count": null,
   "id": "ba73fea2",
   "metadata": {},
   "outputs": [
    {
     "name": "stdout",
     "output_type": "stream",
     "text": [
      "私の名前は　佐藤　慎一 です。来年で　60  歳になります。\n"
     ]
    }
   ],
   "source": [
    "name = input(\"名前を入力してください: \")\n",
    "age = input(\"現在の年齢を入力してください: \")\n",
    "next_age = int(age) + 1\n",
    "print(\"私の名前は \" + name + \" です。来年で \" + str(next_age) + \" 歳になります。\")"
   ]
  }
 ],
 "metadata": {
  "kernelspec": {
   "display_name": ".venv",
   "language": "python",
   "name": "python3"
  },
  "language_info": {
   "codemirror_mode": {
    "name": "ipython",
    "version": 3
   },
   "file_extension": ".py",
   "mimetype": "text/x-python",
   "name": "python",
   "nbconvert_exporter": "python",
   "pygments_lexer": "ipython3",
   "version": "3.12.10"
  }
 },
 "nbformat": 4,
 "nbformat_minor": 5
}
