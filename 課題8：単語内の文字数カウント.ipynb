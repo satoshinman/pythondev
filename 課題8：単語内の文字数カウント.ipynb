{
 "cells": [
  {
   "cell_type": "code",
   "execution_count": 20,
   "id": "5cbd5717",
   "metadata": {},
   "outputs": [
    {
     "name": "stdout",
     "output_type": "stream",
     "text": [
      "入力した英単語： ['sato41', '310shinichi']\n",
      "aが1個ありました\n",
      "cが1個ありました\n",
      "hが2個ありました\n",
      "iが3個ありました\n",
      "nが1個ありました\n",
      "oが1個ありました\n",
      "sが2個ありました\n",
      "tが1個ありました\n"
     ]
    }
   ],
   "source": [
    "word_list = list()\n",
    "keys = \"abcdefghijklmnopqrstuvwxyz\"\n",
    "values = [0] * 26\n",
    "alfabet_dict = dict(zip(keys, values))\n",
    "#print(alfabet_dict)\n",
    "while True:\n",
    "    word = input(\"単語を入力してください：\")\n",
    "    if word == \"\":\n",
    "        break\n",
    "    word_list.append(word)\n",
    "    for char in word:\n",
    "        if char in alfabet_dict:\n",
    "            alfabet_dict[char] += 1\n",
    "\n",
    "print(\"入力した英単語：\", word_list)\n",
    "for key in sorted(alfabet_dict.keys()):\n",
    "    value = alfabet_dict[key]\n",
    "    if value > 0:\n",
    "        print(f\"{key}が{value}個ありました\")"
   ]
  }
 ],
 "metadata": {
  "kernelspec": {
   "display_name": ".venv",
   "language": "python",
   "name": "python3"
  },
  "language_info": {
   "codemirror_mode": {
    "name": "ipython",
    "version": 3
   },
   "file_extension": ".py",
   "mimetype": "text/x-python",
   "name": "python",
   "nbconvert_exporter": "python",
   "pygments_lexer": "ipython3",
   "version": "3.12.10"
  }
 },
 "nbformat": 4,
 "nbformat_minor": 5
}
