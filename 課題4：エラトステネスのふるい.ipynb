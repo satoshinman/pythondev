{
 "cells": [
  {
   "cell_type": "code",
   "execution_count": 10,
   "id": "57c687e2",
   "metadata": {},
   "outputs": [
    {
     "name": "stdout",
     "output_type": "stream",
     "text": [
      "2\n",
      "3\n",
      "5\n",
      "7\n",
      "11\n",
      "13\n",
      "17\n",
      "19\n",
      "23\n",
      "29\n",
      "31\n",
      "37\n",
      "41\n",
      "43\n",
      "47\n",
      "53\n",
      "59\n",
      "61\n",
      "67\n",
      "71\n",
      "73\n",
      "79\n",
      "83\n",
      "89\n",
      "97\n"
     ]
    }
   ],
   "source": [
    "for i in range(101):\n",
    "    match i:\n",
    "        case 1:\n",
    "            # 1は素数ではない\n",
    "            continue\n",
    "        case 2:\n",
    "            # 2は素数である\n",
    "            print(i)\n",
    "        case 3:\n",
    "            # 3は素数である\n",
    "            print(i)\n",
    "        case 5:\n",
    "            # 5は素数である\n",
    "            print(i)\n",
    "        case 7:\n",
    "            # 7は素数である\n",
    "            print(i)\n",
    "        case _:\n",
    "            # それ以外で2,3,5,7で割り切れない数は素数である\n",
    "            if i % 2 == 0:\n",
    "                continue\n",
    "            if i % 3 == 0:\n",
    "                continue\n",
    "            if i % 5 == 0:\n",
    "                continue\n",
    "            if i % 7 == 0:\n",
    "                continue\n",
    "            print(i)\n",
    "\n"
   ]
  }
 ],
 "metadata": {
  "kernelspec": {
   "display_name": ".venv",
   "language": "python",
   "name": "python3"
  },
  "language_info": {
   "codemirror_mode": {
    "name": "ipython",
    "version": 3
   },
   "file_extension": ".py",
   "mimetype": "text/x-python",
   "name": "python",
   "nbconvert_exporter": "python",
   "pygments_lexer": "ipython3",
   "version": "3.12.10"
  }
 },
 "nbformat": 4,
 "nbformat_minor": 5
}
