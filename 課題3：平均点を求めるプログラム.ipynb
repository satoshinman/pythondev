{
 "cells": [
  {
   "cell_type": "code",
   "execution_count": 5,
   "id": "255cdfa9",
   "metadata": {},
   "outputs": [
    {
     "name": "stdout",
     "output_type": "stream",
     "text": [
      "3 人の平均点は 33.3 点です。\n"
     ]
    }
   ],
   "source": [
    "ninzu = 0\n",
    "total_score = 0\n",
    "while True:\n",
    "    score = input(\"点数を入力してください: \")\n",
    "    if score == \"-1\":\n",
    "        break\n",
    "    ninzu += 1\n",
    "    total_score += int(score)\n",
    "\n",
    "if ninzu > 0:\n",
    "    average_score = round(total_score / ninzu, 2)\n",
    "    print(f\"{ninzu} 人の平均点は {average_score:.1f} 点です。\")"
   ]
  }
 ],
 "metadata": {
  "kernelspec": {
   "display_name": ".venv",
   "language": "python",
   "name": "python3"
  },
  "language_info": {
   "codemirror_mode": {
    "name": "ipython",
    "version": 3
   },
   "file_extension": ".py",
   "mimetype": "text/x-python",
   "name": "python",
   "nbconvert_exporter": "python",
   "pygments_lexer": "ipython3",
   "version": "3.12.10"
  }
 },
 "nbformat": 4,
 "nbformat_minor": 5
}
