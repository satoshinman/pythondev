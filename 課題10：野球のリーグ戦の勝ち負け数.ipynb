{
 "cells": [
  {
   "cell_type": "code",
   "execution_count": 19,
   "id": "c477cff6",
   "metadata": {},
   "outputs": [],
   "source": [
    "class Baseball_Team:\n",
    "    def __init__(self, name, win, lose, draw):\n",
    "        self.name = name\n",
    "        self.win = win\n",
    "        self.lose = lose\n",
    "        self.draw = draw\n",
    "\n",
    "    #勝率を計算するメソッド\n",
    "    def calc_win_rate(self):\n",
    "        win_rate = self.win / (self.win + self.lose) if (self.win + self.lose) > 0 else 0\n",
    "        return win_rate\n",
    "\n",
    "    #勝敗情報を表示するメソッド\n",
    "    def show_team_results(self):\n",
    "        win_rate = self.calc_win_rate()\n",
    "        print(f\"{self.name} {self.win:4d} {self.lose:4d} {self.draw:4d} {win_rate:.3f}\")"
   ]
  },
  {
   "cell_type": "code",
   "execution_count": 20,
   "id": "4dcfbcbb",
   "metadata": {},
   "outputs": [
    {
     "name": "stdout",
     "output_type": "stream",
     "text": [
      "team      win lose draw rate\n",
      "Archers    77   64    2 0.546\n",
      "Meteors    71   69    3 0.507\n",
      "Cheetahs   69   68    6 0.504\n",
      "Sharks     70   70    3 0.500\n",
      "Pythons    68   73    2 0.482\n",
      "Owls       59   82    2 0.418\n"
     ]
    }
   ],
   "source": [
    "print(\"team      win lose draw rate\")\n",
    "archers  = Baseball_Team(\"Archers \", 77, 64, 2)\n",
    "archers.show_team_results()\n",
    "meteors  = Baseball_Team(\"Meteors \", 71, 69, 3)\n",
    "meteors.show_team_results()\n",
    "cheetahs = Baseball_Team(\"Cheetahs\", 69, 68, 6)\n",
    "cheetahs.show_team_results()\n",
    "sharks   = Baseball_Team(\"Sharks  \", 70, 70, 3)\n",
    "sharks.show_team_results()\n",
    "pythons  = Baseball_Team(\"Pythons \", 68, 73, 2)\n",
    "pythons.show_team_results()\n",
    "owls     = Baseball_Team(\"Owls    \", 59, 82, 2)\n",
    "owls.show_team_results()"
   ]
  }
 ],
 "metadata": {
  "kernelspec": {
   "display_name": ".venv",
   "language": "python",
   "name": "python3"
  },
  "language_info": {
   "codemirror_mode": {
    "name": "ipython",
    "version": 3
   },
   "file_extension": ".py",
   "mimetype": "text/x-python",
   "name": "python",
   "nbconvert_exporter": "python",
   "pygments_lexer": "ipython3",
   "version": "3.12.10"
  }
 },
 "nbformat": 4,
 "nbformat_minor": 5
}
